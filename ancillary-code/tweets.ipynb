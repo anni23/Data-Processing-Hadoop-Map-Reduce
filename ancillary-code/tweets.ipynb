{
 "cells": [
  {
   "cell_type": "code",
   "execution_count": 1,
   "metadata": {
    "collapsed": false
   },
   "outputs": [
    {
     "name": "stdout",
     "output_type": "stream",
     "text": [
      "[1] \"Using direct authentication\"\n"
     ]
    }
   ],
   "source": [
    "library(\"twitteR\")\n",
    "\n",
    "api_key <- \"7ICGxNJPdbosOA67rorrJ1i9W\"\n",
    "api_secret <- \"CGLcEPnJ8ZeQquy18jUjMzQK5xlDhLcRu4shtCnoTthrmU99IM\"\n",
    "access_token <- \"771783467029917697-Du28kI7XpoKSeFRHnUy1rK4ANM6IZ5T\"\n",
    "access_token_secret <- \"yg6spi2gpaFgbuxP0bBlr1Z0rjl2cMX9HwyXTW4Gqig3v\"\n",
    "\n",
    "setup_twitter_oauth(api_key,api_secret,access_token,access_token_secret)"
   ]
  },
  {
   "cell_type": "code",
   "execution_count": 2,
   "metadata": {
    "collapsed": true
   },
   "outputs": [],
   "source": [
    "tweets <- searchTwitter(\"#soccer\",n=2500)"
   ]
  },
  {
   "cell_type": "code",
   "execution_count": 82,
   "metadata": {
    "collapsed": true
   },
   "outputs": [],
   "source": [
    "df=twListToDF(tweets)"
   ]
  },
  {
   "cell_type": "code",
   "execution_count": 4,
   "metadata": {
    "collapsed": false
   },
   "outputs": [
    {
     "data": {
      "text/html": [
       "'LC_CTYPE=C;LC_NUMERIC=C;LC_TIME=C;LC_COLLATE=C;LC_MONETARY=C;LC_MESSAGES=en_US.UTF-8;LC_PAPER=en_US.UTF-8;LC_NAME=C;LC_ADDRESS=C;LC_TELEPHONE=C;LC_MEASUREMENT=en_US.UTF-8;LC_IDENTIFICATION=C'"
      ],
      "text/latex": [
       "'LC\\_CTYPE=C;LC\\_NUMERIC=C;LC\\_TIME=C;LC\\_COLLATE=C;LC\\_MONETARY=C;LC\\_MESSAGES=en\\_US.UTF-8;LC\\_PAPER=en\\_US.UTF-8;LC\\_NAME=C;LC\\_ADDRESS=C;LC\\_TELEPHONE=C;LC\\_MEASUREMENT=en\\_US.UTF-8;LC\\_IDENTIFICATION=C'"
      ],
      "text/markdown": [
       "'LC_CTYPE=C;LC_NUMERIC=C;LC_TIME=C;LC_COLLATE=C;LC_MONETARY=C;LC_MESSAGES=en_US.UTF-8;LC_PAPER=en_US.UTF-8;LC_NAME=C;LC_ADDRESS=C;LC_TELEPHONE=C;LC_MEASUREMENT=en_US.UTF-8;LC_IDENTIFICATION=C'"
      ],
      "text/plain": [
       "[1] \"LC_CTYPE=C;LC_NUMERIC=C;LC_TIME=C;LC_COLLATE=C;LC_MONETARY=C;LC_MESSAGES=en_US.UTF-8;LC_PAPER=en_US.UTF-8;LC_NAME=C;LC_ADDRESS=C;LC_TELEPHONE=C;LC_MEASUREMENT=en_US.UTF-8;LC_IDENTIFICATION=C\""
      ]
     },
     "metadata": {},
     "output_type": "display_data"
    }
   ],
   "source": [
    "Sys.setlocale(locale=\"C\")"
   ]
  },
  {
   "cell_type": "code",
   "execution_count": 93,
   "metadata": {
    "collapsed": false
   },
   "outputs": [],
   "source": [
    "df1=as.data.frame(df$text)"
   ]
  },
  {
   "cell_type": "code",
   "execution_count": 188,
   "metadata": {
    "collapsed": false,
    "scrolled": false
   },
   "outputs": [],
   "source": [
    "df$text <- sapply(df$text,function(row) iconv(row, \"latin1\", \"ASCII\", sub=\"\"))"
   ]
  },
  {
   "cell_type": "code",
   "execution_count": 196,
   "metadata": {
    "collapsed": false
   },
   "outputs": [],
   "source": [
    "df1 = gsub(\"[[:punct:]]\", \"\", df$text)\n",
    "df1 = gsub(\"[[:digit:]]\", \"\", df1)\n",
    "df1 = gsub(\"http\\\\w+\", \"\", df1)\n",
    "df1 = gsub(\"[ \\t]{2,}\", \"\", df1)\n",
    "df1 = gsub(\"^\\\\s+|\\\\s+$\", \"\", df1) \n",
    "df1 = gsub(\"RT @[a-z,A-Z]*: \", \"\", df1)\n",
    "df1 = gsub(\"#[a-z,A-Z]*\", \"\", df1)\n",
    "df1 = gsub(\"@[a-z,A-Z]*\", \"\", df1)"
   ]
  },
  {
   "cell_type": "code",
   "execution_count": 197,
   "metadata": {
    "collapsed": false
   },
   "outputs": [],
   "source": [
    "write(df1, file = \"data.txt\",\n",
    "      ncolumns = if(is.character(df1)) 1 else 5,\n",
    "      append = FALSE, sep = \" \")"
   ]
  }
 ],
 "metadata": {
  "kernelspec": {
   "display_name": "R",
   "language": "R",
   "name": "ir"
  },
  "language_info": {
   "codemirror_mode": "r",
   "file_extension": ".r",
   "mimetype": "text/x-r-source",
   "name": "R",
   "pygments_lexer": "r",
   "version": "3.3.2"
  }
 },
 "nbformat": 4,
 "nbformat_minor": 2
}
